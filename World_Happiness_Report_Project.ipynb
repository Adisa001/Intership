{
 "cells": [
  {
   "cell_type": "code",
   "execution_count": 29,
   "id": "b71c84db",
   "metadata": {},
   "outputs": [],
   "source": [
    "import pandas as pd\n",
    "from sklearn.model_selection import train_test_split\n",
    "from sklearn.ensemble import RandomForestRegressor\n",
    "from sklearn.metrics import mean_squared_error\n"
   ]
  },
  {
   "cell_type": "code",
   "execution_count": 5,
   "id": "4466af3d",
   "metadata": {},
   "outputs": [
    {
     "name": "stdout",
     "output_type": "stream",
     "text": [
      "       Country          Region  Happiness Rank  Happiness Score  \\\n",
      "0  Switzerland  Western Europe               1            7.587   \n",
      "1      Iceland  Western Europe               2            7.561   \n",
      "2      Denmark  Western Europe               3            7.527   \n",
      "3       Norway  Western Europe               4            7.522   \n",
      "4       Canada   North America               5            7.427   \n",
      "\n",
      "   Standard Error  Economy (GDP per Capita)   Family  \\\n",
      "0         0.03411                   1.39651  1.34951   \n",
      "1         0.04884                   1.30232  1.40223   \n",
      "2         0.03328                   1.32548  1.36058   \n",
      "3         0.03880                   1.45900  1.33095   \n",
      "4         0.03553                   1.32629  1.32261   \n",
      "\n",
      "   Health (Life Expectancy)  Freedom  Trust (Government Corruption)  \\\n",
      "0                   0.94143  0.66557                        0.41978   \n",
      "1                   0.94784  0.62877                        0.14145   \n",
      "2                   0.87464  0.64938                        0.48357   \n",
      "3                   0.88521  0.66973                        0.36503   \n",
      "4                   0.90563  0.63297                        0.32957   \n",
      "\n",
      "   Generosity  Dystopia Residual  \n",
      "0     0.29678            2.51738  \n",
      "1     0.43630            2.70201  \n",
      "2     0.34139            2.49204  \n",
      "3     0.34699            2.46531  \n",
      "4     0.45811            2.45176  \n"
     ]
    }
   ],
   "source": [
    "url = \"https://raw.githubusercontent.com/dsrscientist/DSData/master/happiness_score_dataset.csv\"\n",
    "df = pd.read_csv(url)\n",
    "print(df.head())"
   ]
  },
  {
   "cell_type": "code",
   "execution_count": 6,
   "id": "e5317153",
   "metadata": {},
   "outputs": [
    {
     "name": "stdout",
     "output_type": "stream",
     "text": [
      "<class 'pandas.core.frame.DataFrame'>\n",
      "RangeIndex: 158 entries, 0 to 157\n",
      "Data columns (total 12 columns):\n",
      " #   Column                         Non-Null Count  Dtype  \n",
      "---  ------                         --------------  -----  \n",
      " 0   Country                        158 non-null    object \n",
      " 1   Region                         158 non-null    object \n",
      " 2   Happiness Rank                 158 non-null    int64  \n",
      " 3   Happiness Score                158 non-null    float64\n",
      " 4   Standard Error                 158 non-null    float64\n",
      " 5   Economy (GDP per Capita)       158 non-null    float64\n",
      " 6   Family                         158 non-null    float64\n",
      " 7   Health (Life Expectancy)       158 non-null    float64\n",
      " 8   Freedom                        158 non-null    float64\n",
      " 9   Trust (Government Corruption)  158 non-null    float64\n",
      " 10  Generosity                     158 non-null    float64\n",
      " 11  Dystopia Residual              158 non-null    float64\n",
      "dtypes: float64(9), int64(1), object(2)\n",
      "memory usage: 14.9+ KB\n",
      "None\n"
     ]
    }
   ],
   "source": [
    "print(df.info())"
   ]
  },
  {
   "cell_type": "code",
   "execution_count": 17,
   "id": "7bdae14e",
   "metadata": {},
   "outputs": [
    {
     "name": "stdout",
     "output_type": "stream",
     "text": [
      "       Happiness Rank  Happiness Score  Standard Error  \\\n",
      "count      158.000000       158.000000      158.000000   \n",
      "mean        79.493671         5.375734        0.047885   \n",
      "std         45.754363         1.145010        0.017146   \n",
      "min          1.000000         2.839000        0.018480   \n",
      "25%         40.250000         4.526000        0.037268   \n",
      "50%         79.500000         5.232500        0.043940   \n",
      "75%        118.750000         6.243750        0.052300   \n",
      "max        158.000000         7.587000        0.136930   \n",
      "\n",
      "       Economy (GDP per Capita)      Family  Health (Life Expectancy)  \\\n",
      "count                158.000000  158.000000                158.000000   \n",
      "mean                   0.846137    0.991046                  0.630259   \n",
      "std                    0.403121    0.272369                  0.247078   \n",
      "min                    0.000000    0.000000                  0.000000   \n",
      "25%                    0.545808    0.856823                  0.439185   \n",
      "50%                    0.910245    1.029510                  0.696705   \n",
      "75%                    1.158448    1.214405                  0.811013   \n",
      "max                    1.690420    1.402230                  1.025250   \n",
      "\n",
      "          Freedom  Trust (Government Corruption)  Generosity  \\\n",
      "count  158.000000                     158.000000  158.000000   \n",
      "mean     0.428615                       0.143422    0.237296   \n",
      "std      0.150693                       0.120034    0.126685   \n",
      "min      0.000000                       0.000000    0.000000   \n",
      "25%      0.328330                       0.061675    0.150553   \n",
      "50%      0.435515                       0.107220    0.216130   \n",
      "75%      0.549092                       0.180255    0.309883   \n",
      "max      0.669730                       0.551910    0.795880   \n",
      "\n",
      "       Dystopia Residual  \n",
      "count         158.000000  \n",
      "mean            2.098977  \n",
      "std             0.553550  \n",
      "min             0.328580  \n",
      "25%             1.759410  \n",
      "50%             2.095415  \n",
      "75%             2.462415  \n",
      "max             3.602140  \n"
     ]
    }
   ],
   "source": [
    "print(df.describe())"
   ]
  },
  {
   "cell_type": "code",
   "execution_count": 31,
   "id": "a8956709",
   "metadata": {},
   "outputs": [],
   "source": [
    "X = df.drop([\"Happiness Score\"], axis=1)\n",
    "y = df[\"Happiness Score\"]\n",
    "\n",
    "X = pd.get_dummies(X)\n",
    "\n"
   ]
  },
  {
   "cell_type": "code",
   "execution_count": 32,
   "id": "688e3b64",
   "metadata": {},
   "outputs": [],
   "source": [
    "X_train, X_test, y_train, y_test = train_test_split(X, y, test_size=0.2, random_state=42)\n",
    "\n",
    "model = RandomForestRegressor()\n",
    "model.fit(X_train, y_train)\n",
    "\n",
    "y_pred = model.predict(X_test)\n"
   ]
  },
  {
   "cell_type": "code",
   "execution_count": 33,
   "id": "d2cb0a87",
   "metadata": {},
   "outputs": [
    {
     "name": "stdout",
     "output_type": "stream",
     "text": [
      "Mean Squared Error: 0.004235100593749961\n"
     ]
    }
   ],
   "source": [
    "mse = mean_squared_error(y_test, y_pred)\n",
    "print(\"Mean Squared Error:\", mse)"
   ]
  },
  {
   "cell_type": "code",
   "execution_count": null,
   "id": "5e624bc1",
   "metadata": {},
   "outputs": [],
   "source": []
  }
 ],
 "metadata": {
  "kernelspec": {
   "display_name": "Python 3 (ipykernel)",
   "language": "python",
   "name": "python3"
  },
  "language_info": {
   "codemirror_mode": {
    "name": "ipython",
    "version": 3
   },
   "file_extension": ".py",
   "mimetype": "text/x-python",
   "name": "python",
   "nbconvert_exporter": "python",
   "pygments_lexer": "ipython3",
   "version": "3.9.13"
  }
 },
 "nbformat": 4,
 "nbformat_minor": 5
}
