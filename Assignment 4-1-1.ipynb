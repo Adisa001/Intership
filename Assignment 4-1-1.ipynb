{
 "cells": [
  {
   "cell_type": "code",
   "execution_count": 3,
   "id": "8cec24e7",
   "metadata": {},
   "outputs": [
    {
     "ename": "IndexError",
     "evalue": "list index out of range",
     "output_type": "error",
     "traceback": [
      "\u001b[1;31m---------------------------------------------------------------------------\u001b[0m",
      "\u001b[1;31mIndexError\u001b[0m                                Traceback (most recent call last)",
      "\u001b[1;32m~\\AppData\\Local\\Temp\\ipykernel_23048\\3762281041.py\u001b[0m in \u001b[0;36m<module>\u001b[1;34m\u001b[0m\n\u001b[0;32m     16\u001b[0m     \u001b[0mcolumns\u001b[0m \u001b[1;33m=\u001b[0m \u001b[0mrow\u001b[0m\u001b[1;33m.\u001b[0m\u001b[0mfind_all\u001b[0m\u001b[1;33m(\u001b[0m\u001b[1;34m'td'\u001b[0m\u001b[1;33m)\u001b[0m\u001b[1;33m\u001b[0m\u001b[1;33m\u001b[0m\u001b[0m\n\u001b[0;32m     17\u001b[0m \u001b[1;33m\u001b[0m\u001b[0m\n\u001b[1;32m---> 18\u001b[1;33m     \u001b[0mrank\u001b[0m \u001b[1;33m=\u001b[0m \u001b[0mcolumns\u001b[0m\u001b[1;33m[\u001b[0m\u001b[1;36m0\u001b[0m\u001b[1;33m]\u001b[0m\u001b[1;33m.\u001b[0m\u001b[0mtext\u001b[0m\u001b[1;33m.\u001b[0m\u001b[0mstrip\u001b[0m\u001b[1;33m(\u001b[0m\u001b[1;33m)\u001b[0m\u001b[1;33m\u001b[0m\u001b[1;33m\u001b[0m\u001b[0m\n\u001b[0m\u001b[0;32m     19\u001b[0m     \u001b[0mname\u001b[0m \u001b[1;33m=\u001b[0m \u001b[0mcolumns\u001b[0m\u001b[1;33m[\u001b[0m\u001b[1;36m1\u001b[0m\u001b[1;33m]\u001b[0m\u001b[1;33m.\u001b[0m\u001b[0mtext\u001b[0m\u001b[1;33m.\u001b[0m\u001b[0mstrip\u001b[0m\u001b[1;33m(\u001b[0m\u001b[1;33m)\u001b[0m\u001b[1;33m\u001b[0m\u001b[1;33m\u001b[0m\u001b[0m\n\u001b[0;32m     20\u001b[0m     \u001b[0martist\u001b[0m \u001b[1;33m=\u001b[0m \u001b[0mcolumns\u001b[0m\u001b[1;33m[\u001b[0m\u001b[1;36m2\u001b[0m\u001b[1;33m]\u001b[0m\u001b[1;33m.\u001b[0m\u001b[0mtext\u001b[0m\u001b[1;33m.\u001b[0m\u001b[0mstrip\u001b[0m\u001b[1;33m(\u001b[0m\u001b[1;33m)\u001b[0m\u001b[1;33m\u001b[0m\u001b[1;33m\u001b[0m\u001b[0m\n",
      "\u001b[1;31mIndexError\u001b[0m: list index out of range"
     ]
    }
   ],
   "source": [
    "import requests\n",
    "from bs4 import BeautifulSoup\n",
    "import pandas as pd\n",
    "\n",
    "url = 'https://en.wikipedia.org/wiki/List_of_most-viewed_YouTube_videos'\n",
    "\n",
    "response = requests.get(url)\n",
    "soup = BeautifulSoup(response.content, 'html.parser')\n",
    "\n",
    "table = soup.find('table', class_='wikitable')\n",
    "rows = table.find_all('tr')[1:]  \n",
    "\n",
    "data = []\n",
    "\n",
    "for row in rows:\n",
    "    columns = row.find_all('td')\n",
    "    \n",
    "    rank = columns[0].text.strip()\n",
    "    name = columns[1].text.strip()\n",
    "    artist = columns[2].text.strip()\n",
    "    upload_date = columns[4].text.strip()\n",
    "    views = columns[3].text.strip()\n",
    "    \n",
    "    data.append({\n",
    "        'Rank': rank,\n",
    "        'Name': name,\n",
    "        'Artist': artist,\n",
    "        'Upload Date': upload_date,\n",
    "        'Views': views\n",
    "    })\n",
    "\n",
    "df = pd.DataFrame(data)\n",
    "df.to_csv('most_viewed_youtube_videos.csv', index=False)\n",
    "print('Scraping complete.')\n"
   ]
  },
  {
   "cell_type": "code",
   "execution_count": 4,
   "id": "56ae11db",
   "metadata": {},
   "outputs": [
    {
     "ename": "TypeError",
     "evalue": "'NoneType' object is not subscriptable",
     "output_type": "error",
     "traceback": [
      "\u001b[1;31m---------------------------------------------------------------------------\u001b[0m",
      "\u001b[1;31mTypeError\u001b[0m                                 Traceback (most recent call last)",
      "\u001b[1;32m~\\AppData\\Local\\Temp\\ipykernel_23048\\2874086362.py\u001b[0m in \u001b[0;36m<module>\u001b[1;34m\u001b[0m\n\u001b[0;32m      9\u001b[0m \u001b[1;33m\u001b[0m\u001b[0m\n\u001b[0;32m     10\u001b[0m \u001b[1;33m\u001b[0m\u001b[0m\n\u001b[1;32m---> 11\u001b[1;33m \u001b[0mfixtures_link\u001b[0m \u001b[1;33m=\u001b[0m \u001b[0msoup\u001b[0m\u001b[1;33m.\u001b[0m\u001b[0mfind\u001b[0m\u001b[1;33m(\u001b[0m\u001b[1;34m'a'\u001b[0m\u001b[1;33m,\u001b[0m \u001b[0mtext\u001b[0m\u001b[1;33m=\u001b[0m\u001b[1;34m'International Fixtures'\u001b[0m\u001b[1;33m)\u001b[0m\u001b[1;33m[\u001b[0m\u001b[1;34m'href'\u001b[0m\u001b[1;33m]\u001b[0m\u001b[1;33m\u001b[0m\u001b[1;33m\u001b[0m\u001b[0m\n\u001b[0m\u001b[0;32m     12\u001b[0m \u001b[0mfixtures_url\u001b[0m \u001b[1;33m=\u001b[0m \u001b[0mhomepage_url\u001b[0m \u001b[1;33m+\u001b[0m \u001b[0mfixtures_link\u001b[0m\u001b[1;33m\u001b[0m\u001b[1;33m\u001b[0m\u001b[0m\n\u001b[0;32m     13\u001b[0m \u001b[1;33m\u001b[0m\u001b[0m\n",
      "\u001b[1;31mTypeError\u001b[0m: 'NoneType' object is not subscriptable"
     ]
    }
   ],
   "source": [
    "import requests\n",
    "from bs4 import BeautifulSoup\n",
    "import pandas as pd\n",
    "\n",
    "\n",
    "homepage_url = 'http://www.bcci.tv/'\n",
    "response = requests.get(homepage_url)\n",
    "soup = BeautifulSoup(response.content, 'html.parser')\n",
    "\n",
    "\n",
    "fixtures_link = soup.find('a', text='International Fixtures')['href']\n",
    "fixtures_url = homepage_url + fixtures_link\n",
    "\n",
    "\n",
    "response = requests.get(fixtures_url)\n",
    "soup = BeautifulSoup(response.content, 'html.parser')\n",
    "\n",
    "fixtures = soup.find_all('li', class_='js-list')\n",
    "\n",
    "data = []\n",
    "\n",
    "for fixture in fixtures:\n",
    "    match_title = fixture.find('h3', class_='fixture__name').text.strip()\n",
    "    series = fixture.find('span', class_='u-unskewed-text').text.strip()\n",
    "    place = fixture.find('p', class_='fixture__additional-info').text.strip()\n",
    "    date = fixture.find('span', class_='fixture__date').text.strip()\n",
    "    time = fixture.find('span', class_='fixture__time').text.strip()\n",
    "    \n",
    "    data.append({'Match Title': match_title,'Series': series,'Place': place,'Date': date,'Time': time })\n",
    "\n",
    "df = pd.DataFrame(data)\n",
    "df.to_csv('team_india_fixtures.csv', index=False)\n",
    "print('Scraping complete.')\n"
   ]
  },
  {
   "cell_type": "code",
   "execution_count": 5,
   "id": "71387eab",
   "metadata": {},
   "outputs": [
    {
     "ename": "TypeError",
     "evalue": "'NoneType' object is not subscriptable",
     "output_type": "error",
     "traceback": [
      "\u001b[1;31m---------------------------------------------------------------------------\u001b[0m",
      "\u001b[1;31mTypeError\u001b[0m                                 Traceback (most recent call last)",
      "\u001b[1;32m~\\AppData\\Local\\Temp\\ipykernel_23048\\444849418.py\u001b[0m in \u001b[0;36m<module>\u001b[1;34m\u001b[0m\n\u001b[0;32m      9\u001b[0m \u001b[1;33m\u001b[0m\u001b[0m\n\u001b[0;32m     10\u001b[0m \u001b[1;33m\u001b[0m\u001b[0m\n\u001b[1;32m---> 11\u001b[1;33m \u001b[0meconomy_link\u001b[0m \u001b[1;33m=\u001b[0m \u001b[0msoup\u001b[0m\u001b[1;33m.\u001b[0m\u001b[0mfind\u001b[0m\u001b[1;33m(\u001b[0m\u001b[1;34m'a'\u001b[0m\u001b[1;33m,\u001b[0m \u001b[0mtext\u001b[0m\u001b[1;33m=\u001b[0m\u001b[1;34m'Economy'\u001b[0m\u001b[1;33m)\u001b[0m\u001b[1;33m[\u001b[0m\u001b[1;34m'href'\u001b[0m\u001b[1;33m]\u001b[0m\u001b[1;33m\u001b[0m\u001b[1;33m\u001b[0m\u001b[0m\n\u001b[0m\u001b[0;32m     12\u001b[0m \u001b[0meconomy_url\u001b[0m \u001b[1;33m=\u001b[0m \u001b[0mhomepage_url\u001b[0m \u001b[1;33m+\u001b[0m \u001b[0meconomy_link\u001b[0m\u001b[1;33m\u001b[0m\u001b[1;33m\u001b[0m\u001b[0m\n\u001b[0;32m     13\u001b[0m \u001b[1;33m\u001b[0m\u001b[0m\n",
      "\u001b[1;31mTypeError\u001b[0m: 'NoneType' object is not subscriptable"
     ]
    }
   ],
   "source": [
    "import requests\n",
    "from bs4 import BeautifulSoup\n",
    "import pandas as pd\n",
    "\n",
    "\n",
    "homepage_url = 'https://statisticstimes.com/'\n",
    "response = requests.get(homepage_url)\n",
    "soup = BeautifulSoup(response.content, 'html.parser')\n",
    "\n",
    "\n",
    "economy_link = soup.find('a', text='Economy')['href']\n",
    "economy_url = homepage_url + economy_link\n",
    "\n",
    "\n",
    "response = requests.get(economy_url)\n",
    "soup = BeautifulSoup(response.content, 'html.parser')\n",
    "\n",
    "table = soup.find('table', class_='display')\n",
    "rows = table.find_all('tr')[1:]  # Exclude the table header\n",
    "\n",
    "data = []\n",
    "\n",
    "for row in rows:\n",
    "    columns = row.find_all('td')\n",
    "    \n",
    "    rank = columns[0].text.strip()\n",
    "    state = columns[1].text.strip()\n",
    "    gdp_18_19 = columns[2].text.strip()\n",
    "    gdp_19_20 = columns[3].text.strip()\n",
    "    share_18_19 = columns[4].text.strip()\n",
    "    gdp_billion = columns[5].text.strip()\n",
    "    \n",
    "    data.append({'Rank': rank,'State': state,'GSDP(18-19) - Current Prices': gdp_18_19,'GSDP(19-20) - Current Prices': gdp_19_20,'Share(18-19)': share_18_19,'GDP($ billion)': gdp_billion})\n",
    "\n",
    "df = pd.DataFrame(data)\n",
    "df.to_csv('statewise_gdp_india.csv', index=False)\n",
    "print('Scraping complete.')\n"
   ]
  },
  {
   "cell_type": "code",
   "execution_count": 6,
   "id": "22cb7fc5",
   "metadata": {},
   "outputs": [
    {
     "ename": "AttributeError",
     "evalue": "'NoneType' object has no attribute 'find_next'",
     "output_type": "error",
     "traceback": [
      "\u001b[1;31m---------------------------------------------------------------------------\u001b[0m",
      "\u001b[1;31mAttributeError\u001b[0m                            Traceback (most recent call last)",
      "\u001b[1;32m~\\AppData\\Local\\Temp\\ipykernel_23048\\2204951361.py\u001b[0m in \u001b[0;36m<module>\u001b[1;34m\u001b[0m\n\u001b[0;32m     10\u001b[0m \u001b[1;33m\u001b[0m\u001b[0m\n\u001b[0;32m     11\u001b[0m \u001b[0mexplore_menu\u001b[0m \u001b[1;33m=\u001b[0m \u001b[0msoup\u001b[0m\u001b[1;33m.\u001b[0m\u001b[0mfind\u001b[0m\u001b[1;33m(\u001b[0m\u001b[1;34m'summary'\u001b[0m\u001b[1;33m,\u001b[0m \u001b[0mtext\u001b[0m\u001b[1;33m=\u001b[0m\u001b[1;34m'Explore'\u001b[0m\u001b[1;33m)\u001b[0m\u001b[1;33m\u001b[0m\u001b[1;33m\u001b[0m\u001b[0m\n\u001b[1;32m---> 12\u001b[1;33m \u001b[0mtrending_link\u001b[0m \u001b[1;33m=\u001b[0m \u001b[0mexplore_menu\u001b[0m\u001b[1;33m.\u001b[0m\u001b[0mfind_next\u001b[0m\u001b[1;33m(\u001b[0m\u001b[1;34m'a'\u001b[0m\u001b[1;33m,\u001b[0m \u001b[0mtext\u001b[0m\u001b[1;33m=\u001b[0m\u001b[1;34m'Trending'\u001b[0m\u001b[1;33m)\u001b[0m\u001b[1;33m[\u001b[0m\u001b[1;34m'href'\u001b[0m\u001b[1;33m]\u001b[0m\u001b[1;33m\u001b[0m\u001b[1;33m\u001b[0m\u001b[0m\n\u001b[0m\u001b[0;32m     13\u001b[0m \u001b[0mtrending_url\u001b[0m \u001b[1;33m=\u001b[0m \u001b[0mhomepage_url\u001b[0m \u001b[1;33m+\u001b[0m \u001b[0mtrending_link\u001b[0m\u001b[1;33m\u001b[0m\u001b[1;33m\u001b[0m\u001b[0m\n\u001b[0;32m     14\u001b[0m \u001b[1;33m\u001b[0m\u001b[0m\n",
      "\u001b[1;31mAttributeError\u001b[0m: 'NoneType' object has no attribute 'find_next'"
     ]
    }
   ],
   "source": [
    "import requests\n",
    "from bs4 import BeautifulSoup\n",
    "import pandas as pd\n",
    "\n",
    "\n",
    "homepage_url = 'https://github.com/'\n",
    "response = requests.get(homepage_url)\n",
    "soup = BeautifulSoup(response.content, 'html.parser')\n",
    "\n",
    "\n",
    "explore_menu = soup.find('summary', text='Explore')\n",
    "trending_link = explore_menu.find_next('a', text='Trending')['href']\n",
    "trending_url = homepage_url + trending_link\n",
    "\n",
    "\n",
    "response = requests.get(trending_url)\n",
    "soup = BeautifulSoup(response.content, 'html.parser')\n",
    "\n",
    "repos = soup.find_all('article', class_='Box-row')\n",
    "\n",
    "data = []\n",
    "\n",
    "for repo in repos:\n",
    "    title = repo.find('h1', class_='h3').text.strip()\n",
    "    description = repo.find('p', class_='col-9').text.strip()\n",
    "    contributors = repo.find('a', class_='Link--muted').text.strip()\n",
    "    language = repo.find('span', itemprop='programmingLanguage').text.strip()\n",
    "    \n",
    "    data.append({'Repository Title': title,'Repository Description': description,'Contributors Count': contributors,'Language Used': language})\n",
    "\n",
    "df = pd.DataFrame(data)\n",
    "df.to_csv('trending_repositories.csv', index=False)\n",
    "print('Scraping complete.')\n"
   ]
  },
  {
   "cell_type": "code",
   "execution_count": 7,
   "id": "8e48c1e1",
   "metadata": {},
   "outputs": [
    {
     "ename": "AttributeError",
     "evalue": "'NoneType' object has no attribute 'find_next'",
     "output_type": "error",
     "traceback": [
      "\u001b[1;31m---------------------------------------------------------------------------\u001b[0m",
      "\u001b[1;31mAttributeError\u001b[0m                            Traceback (most recent call last)",
      "\u001b[1;32m~\\AppData\\Local\\Temp\\ipykernel_23048\\3839535239.py\u001b[0m in \u001b[0;36m<module>\u001b[1;34m\u001b[0m\n\u001b[0;32m     10\u001b[0m \u001b[1;33m\u001b[0m\u001b[0m\n\u001b[0;32m     11\u001b[0m \u001b[0mcharts_menu\u001b[0m \u001b[1;33m=\u001b[0m \u001b[0msoup\u001b[0m\u001b[1;33m.\u001b[0m\u001b[0mfind\u001b[0m\u001b[1;33m(\u001b[0m\u001b[1;34m'a'\u001b[0m\u001b[1;33m,\u001b[0m \u001b[0mtext\u001b[0m\u001b[1;33m=\u001b[0m\u001b[1;34m'Charts'\u001b[0m\u001b[1;33m)\u001b[0m\u001b[1;33m\u001b[0m\u001b[1;33m\u001b[0m\u001b[0m\n\u001b[1;32m---> 12\u001b[1;33m \u001b[0mhot_100_link\u001b[0m \u001b[1;33m=\u001b[0m \u001b[0mcharts_menu\u001b[0m\u001b[1;33m.\u001b[0m\u001b[0mfind_next\u001b[0m\u001b[1;33m(\u001b[0m\u001b[1;34m'a'\u001b[0m\u001b[1;33m,\u001b[0m \u001b[0mtext\u001b[0m\u001b[1;33m=\u001b[0m\u001b[1;34m'Hot 100'\u001b[0m\u001b[1;33m)\u001b[0m\u001b[1;33m[\u001b[0m\u001b[1;34m'href'\u001b[0m\u001b[1;33m]\u001b[0m\u001b[1;33m\u001b[0m\u001b[1;33m\u001b[0m\u001b[0m\n\u001b[0m\u001b[0;32m     13\u001b[0m \u001b[0mhot_100_url\u001b[0m \u001b[1;33m=\u001b[0m \u001b[0mhomepage_url\u001b[0m \u001b[1;33m+\u001b[0m \u001b[0mhot_100_link\u001b[0m\u001b[1;33m\u001b[0m\u001b[1;33m\u001b[0m\u001b[0m\n\u001b[0;32m     14\u001b[0m \u001b[1;33m\u001b[0m\u001b[0m\n",
      "\u001b[1;31mAttributeError\u001b[0m: 'NoneType' object has no attribute 'find_next'"
     ]
    }
   ],
   "source": [
    "import requests\n",
    "from bs4 import BeautifulSoup\n",
    "import pandas as pd\n",
    "\n",
    "\n",
    "homepage_url = 'https://www.billboard.com/'\n",
    "response = requests.get(homepage_url)\n",
    "soup = BeautifulSoup(response.content, 'html.parser')\n",
    "\n",
    "\n",
    "charts_menu = soup.find('a', text='Charts')\n",
    "hot_100_link = charts_menu.find_next('a', text='Hot 100')['href']\n",
    "hot_100_url = homepage_url + hot_100_link\n",
    "\n",
    "\n",
    "response = requests.get(hot_100_url)\n",
    "soup = BeautifulSoup(response.content, 'html.parser')\n",
    "\n",
    "songs = soup.find_all('li', class_='chart-list__element')\n",
    "\n",
    "data = []\n",
    "\n",
    "for song in songs:\n",
    "    song_name = song.find('span', class_='chart-element__information__song').text.strip()\n",
    "    artist_name = song.find('span', class_='chart-element__information__artist').text.strip()\n",
    "    last_week_rank = song.find('span', class_='chart-element__meta.text--last').text.strip()\n",
    "    peak_rank = song.find('span', class_='chart-element__meta.text--peak').text.strip()\n",
    "    weeks_on_board = song.find('span', class_='chart-element__meta.text--week').text.strip()\n",
    "    \n",
    "    data.append({'Song Name': song_name,'Artist Name': artist_name,'Last Week Rank': last_week_rank,'Peak Rank': peak_rank,'Weeks on Board': weeks_on_board})\n",
    "\n",
    "df = pd.DataFrame(data)\n",
    "df.to_csv('top_100_songs.csv', index=False)\n",
    "print('Scraping complete.')\n"
   ]
  },
  {
   "cell_type": "code",
   "execution_count": 8,
   "id": "f289bb76",
   "metadata": {},
   "outputs": [
    {
     "ename": "IndexError",
     "evalue": "list index out of range",
     "output_type": "error",
     "traceback": [
      "\u001b[1;31m---------------------------------------------------------------------------\u001b[0m",
      "\u001b[1;31mIndexError\u001b[0m                                Traceback (most recent call last)",
      "\u001b[1;32m~\\AppData\\Local\\Temp\\ipykernel_23048\\1440919669.py\u001b[0m in \u001b[0;36m<module>\u001b[1;34m\u001b[0m\n\u001b[0;32m     17\u001b[0m     \u001b[0mcolumns\u001b[0m \u001b[1;33m=\u001b[0m \u001b[0mrow\u001b[0m\u001b[1;33m.\u001b[0m\u001b[0mfind_all\u001b[0m\u001b[1;33m(\u001b[0m\u001b[1;34m'td'\u001b[0m\u001b[1;33m)\u001b[0m\u001b[1;33m\u001b[0m\u001b[1;33m\u001b[0m\u001b[0m\n\u001b[0;32m     18\u001b[0m \u001b[1;33m\u001b[0m\u001b[0m\n\u001b[1;32m---> 19\u001b[1;33m     \u001b[0mbook_name\u001b[0m \u001b[1;33m=\u001b[0m \u001b[0mcolumns\u001b[0m\u001b[1;33m[\u001b[0m\u001b[1;36m1\u001b[0m\u001b[1;33m]\u001b[0m\u001b[1;33m.\u001b[0m\u001b[0mtext\u001b[0m\u001b[1;33m.\u001b[0m\u001b[0mstrip\u001b[0m\u001b[1;33m(\u001b[0m\u001b[1;33m)\u001b[0m\u001b[1;33m\u001b[0m\u001b[1;33m\u001b[0m\u001b[0m\n\u001b[0m\u001b[0;32m     20\u001b[0m     \u001b[0mauthor_name\u001b[0m \u001b[1;33m=\u001b[0m \u001b[0mcolumns\u001b[0m\u001b[1;33m[\u001b[0m\u001b[1;36m2\u001b[0m\u001b[1;33m]\u001b[0m\u001b[1;33m.\u001b[0m\u001b[0mtext\u001b[0m\u001b[1;33m.\u001b[0m\u001b[0mstrip\u001b[0m\u001b[1;33m(\u001b[0m\u001b[1;33m)\u001b[0m\u001b[1;33m\u001b[0m\u001b[1;33m\u001b[0m\u001b[0m\n\u001b[0;32m     21\u001b[0m     \u001b[0mvolumes_sold\u001b[0m \u001b[1;33m=\u001b[0m \u001b[0mcolumns\u001b[0m\u001b[1;33m[\u001b[0m\u001b[1;36m3\u001b[0m\u001b[1;33m]\u001b[0m\u001b[1;33m.\u001b[0m\u001b[0mtext\u001b[0m\u001b[1;33m.\u001b[0m\u001b[0mstrip\u001b[0m\u001b[1;33m(\u001b[0m\u001b[1;33m)\u001b[0m\u001b[1;33m\u001b[0m\u001b[1;33m\u001b[0m\u001b[0m\n",
      "\u001b[1;31mIndexError\u001b[0m: list index out of range"
     ]
    }
   ],
   "source": [
    "import requests\n",
    "from bs4 import BeautifulSoup\n",
    "import pandas as pd\n",
    "\n",
    "\n",
    "url = 'https://www.theguardian.com/news/datablog/2012/aug/09/best-selling-books-all-time-fifty-shades-grey-compare'\n",
    "response = requests.get(url)\n",
    "soup = BeautifulSoup(response.content, 'html.parser')\n",
    "\n",
    "\n",
    "table = soup.find('table')\n",
    "rows = table.find_all('tr')[1:]  \n",
    "\n",
    "data = []\n",
    "\n",
    "for row in rows:\n",
    "    columns = row.find_all('td')\n",
    "    \n",
    "    book_name = columns[1].text.strip()\n",
    "    author_name = columns[2].text.strip()\n",
    "    volumes_sold = columns[3].text.strip()\n",
    "    publisher = columns[4].text.strip()\n",
    "    genre = columns[5].text.strip()\n",
    "    \n",
    "    data.append({'Book Name': book_name,'Author Name': author_name,'Volumes Sold': volumes_sold,'Publisher': publisher,'Genre': genre})\n",
    "\n",
    "df = pd.DataFrame(data)\n",
    "df.to_csv('highest_selling_novels.csv', index=False)\n",
    "print('Scraping complete.')\n"
   ]
  },
  {
   "cell_type": "code",
   "execution_count": 11,
   "id": "87e80ebb",
   "metadata": {},
   "outputs": [
    {
     "name": "stdout",
     "output_type": "stream",
     "text": [
      "Scraping Complete.\n"
     ]
    }
   ],
   "source": [
    "import requests\n",
    "from bs4 import BeautifulSoup\n",
    "import pandas as pd\n",
    "\n",
    "\n",
    "url = 'https://www.imdb.com/list/ls095964455/'\n",
    "response = requests.get(url)\n",
    "soup = BeautifulSoup(response.content, 'html.parser')\n",
    "\n",
    "\n",
    "series = soup.find_all('div', class_='lister-item mode-detail')\n",
    "\n",
    "data = []\n",
    "\n",
    "for serie in series:\n",
    "    name = serie.h3.a.text.strip()\n",
    "    year_span = serie.find('span', class_='lister-item-year').text.strip('()')\n",
    "    genre = serie.find('span', class_='genre').text.strip()\n",
    "    run_time = serie.find('span', class_='runtime').text.strip()\n",
    "    ratings = serie.find('span', class_='ipl-rating-star__rating').text.strip()\n",
    "    votes = serie.find('span', attrs={'name': 'nv'}).text.strip().replace(',', '')\n",
    "    \n",
    "    data.append({'Name': name,'Year Span': year_span,'Genre': genre,'Run Time': run_time,'Ratings': ratings,'Votes': votes})\n",
    "\n",
    "df = pd.DataFrame(data)\n",
    "df.to_csv('most_watched_tv_series.csv', index=False)\n",
    "print('Scraping Complete.')\n"
   ]
  },
  {
   "cell_type": "code",
   "execution_count": null,
   "id": "e6472eca",
   "metadata": {},
   "outputs": [],
   "source": []
  }
 ],
 "metadata": {
  "kernelspec": {
   "display_name": "Python 3 (ipykernel)",
   "language": "python",
   "name": "python3"
  },
  "language_info": {
   "codemirror_mode": {
    "name": "ipython",
    "version": 3
   },
   "file_extension": ".py",
   "mimetype": "text/x-python",
   "name": "python",
   "nbconvert_exporter": "python",
   "pygments_lexer": "ipython3",
   "version": "3.9.13"
  }
 },
 "nbformat": 4,
 "nbformat_minor": 5
}
