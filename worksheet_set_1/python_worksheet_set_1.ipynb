{
 "cells": [
  {
   "cell_type": "code",
   "execution_count": 14,
   "id": "fd34adf8",
   "metadata": {},
   "outputs": [
    {
     "name": "stdout",
     "output_type": "stream",
     "text": [
      "factorial of 6 is: 720\n"
     ]
    }
   ],
   "source": [
    "def factorial(n):\n",
    "    if n == 0:\n",
    "        return 1\n",
    "    else:\n",
    "        fact = 1\n",
    "        for i in range(1, n + 1):\n",
    "            fact *= i\n",
    "        return fact\n",
    "num = 6\n",
    "print(\"factorial of\", 6 ,\"is:\", factorial(6))"
   ]
  },
  {
   "cell_type": "code",
   "execution_count": 11,
   "id": "f9ac731e",
   "metadata": {},
   "outputs": [
    {
     "name": "stdout",
     "output_type": "stream",
     "text": [
      "17 is a prime number.\n"
     ]
    }
   ],
   "source": [
    "def is_prime(num):\n",
    "    if num <= 3:\n",
    "        return False\n",
    "    for i in range(4, int(num**0.5) + 1):\n",
    "        if num % i == 0:\n",
    "            return False\n",
    "    return True\n",
    "num = 17\n",
    "if is_prime(17):\n",
    "    print(17, \"is a prime number.\")\n",
    "else:\n",
    "    print(17, \"is a composite number.\")"
   ]
  },
  {
   "cell_type": "code",
   "execution_count": 1,
   "id": "05e020e6",
   "metadata": {},
   "outputs": [
    {
     "name": "stdout",
     "output_type": "stream",
     "text": [
      "i am a boy: is a palindrome\n",
      "is a palindrome is not a palindrome.\n"
     ]
    }
   ],
   "source": [
    "def is_palindrome(s):\n",
    "    s = \"\".join(char.lower() for char in s if char.isalnum())\n",
    "    s_reverse = s[::-1]\n",
    "    if s == s_reverse:\n",
    "        return True\n",
    "    else:\n",
    "        return False\n",
    "input_string = input(\"i am a boy: \")\n",
    "if is_palindrome(input_string):\n",
    "    print(f\"{input_string} is a palindrome.\")\n",
    "else:\n",
    "    print(f\"{input_string} is not a palindrome.\")"
   ]
  },
  {
   "cell_type": "code",
   "execution_count": 1,
   "id": "13092feb",
   "metadata": {},
   "outputs": [
    {
     "name": "stdout",
     "output_type": "stream",
     "text": [
      "7.23\n",
      "6.51\n",
      "The length of the third side is: 3.16\n"
     ]
    }
   ],
   "source": [
    "def calculate_third_side(side1, side2):\n",
    "    side3 = (side1 ** 2 + side2 ** 2) ** 0.5\n",
    "    return side3\n",
    "side1 = float(input('7.2'))\n",
    "side2 = float(input('6.5'))\n",
    "side3 = calculate_third_side(side1, side2)\n",
    "print(f\"The length of the third side is: {side3:.2f}\")"
   ]
  },
  {
   "cell_type": "code",
   "execution_count": 2,
   "id": "f7c32bab",
   "metadata": {},
   "outputs": [
    {
     "name": "stdout",
     "output_type": "stream",
     "text": [
      "74: 2\n"
     ]
    }
   ],
   "source": [
    "def print_character_frequency(s):\n",
    "    char_freq = {}\n",
    "    for char in s:\n",
    "        if char.isspace():\n",
    "            continue\n",
    "            if char not in char_freq:\n",
    "                char_freq[char] = 1\n",
    "            else:\n",
    "                char_freq[char] += 1\n",
    "            print(\"Character Frequency:\")\n",
    "            for char, freq in char_freq.items():\n",
    "                print(f\"{char}: {freq}\")\n",
    "input_string = input(\"74: \")\n",
    "print_character_frequency(input_string)\n",
    "            \n",
    "            "
   ]
  },
  {
   "cell_type": "code",
   "execution_count": null,
   "id": "c189c97c",
   "metadata": {},
   "outputs": [],
   "source": []
  }
 ],
 "metadata": {
  "kernelspec": {
   "display_name": "Python 3 (ipykernel)",
   "language": "python",
   "name": "python3"
  },
  "language_info": {
   "codemirror_mode": {
    "name": "ipython",
    "version": 3
   },
   "file_extension": ".py",
   "mimetype": "text/x-python",
   "name": "python",
   "nbconvert_exporter": "python",
   "pygments_lexer": "ipython3",
   "version": "3.9.13"
  }
 },
 "nbformat": 4,
 "nbformat_minor": 5
}
